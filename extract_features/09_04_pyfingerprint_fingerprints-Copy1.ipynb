{
 "cells": [
  {
   "cell_type": "code",
   "execution_count": 1,
   "id": "551c3e51",
   "metadata": {},
   "outputs": [],
   "source": [
    "import pandas as pd\n",
    "import numpy as np\n",
    "from PyFingerprint.fingerprint import get_fingerprint, get_fingerprints"
   ]
  },
  {
   "cell_type": "code",
   "execution_count": 2,
   "id": "2f9b95e6",
   "metadata": {},
   "outputs": [],
   "source": [
    "import tensorflow.estimator as estimator"
   ]
  },
  {
   "cell_type": "code",
   "execution_count": 51,
   "id": "72218865",
   "metadata": {},
   "outputs": [
    {
     "data": {
      "text/html": [
       "<div>\n",
       "<style scoped>\n",
       "    .dataframe tbody tr th:only-of-type {\n",
       "        vertical-align: middle;\n",
       "    }\n",
       "\n",
       "    .dataframe tbody tr th {\n",
       "        vertical-align: top;\n",
       "    }\n",
       "\n",
       "    .dataframe thead th {\n",
       "        text-align: right;\n",
       "    }\n",
       "</style>\n",
       "<table border=\"1\" class=\"dataframe\">\n",
       "  <thead>\n",
       "    <tr style=\"text-align: right;\">\n",
       "      <th></th>\n",
       "      <th>Sample ID</th>\n",
       "      <th>SMILES</th>\n",
       "      <th>Label</th>\n",
       "    </tr>\n",
       "  </thead>\n",
       "  <tbody>\n",
       "    <tr>\n",
       "      <th>0</th>\n",
       "      <td>&gt;Positive_137</td>\n",
       "      <td>CC(C)=CCCC(C)(OC1OC(COC2OC(CO)C(O)C(OC3OCC(O)C...</td>\n",
       "      <td>1</td>\n",
       "    </tr>\n",
       "    <tr>\n",
       "      <th>1</th>\n",
       "      <td>&gt;Positive_138</td>\n",
       "      <td>CC(=CC(O)C(O)C(C)(C)O)C1CCC2(C)C1C(O)CC1C3(C)C...</td>\n",
       "      <td>1</td>\n",
       "    </tr>\n",
       "    <tr>\n",
       "      <th>2</th>\n",
       "      <td>&gt;Positive_139</td>\n",
       "      <td>C=C(C)C(O)CCC(C)(OC1OC(COC2OC(CO)C(O)C2O)C(O)C...</td>\n",
       "      <td>1</td>\n",
       "    </tr>\n",
       "    <tr>\n",
       "      <th>3</th>\n",
       "      <td>&gt;Positive_140</td>\n",
       "      <td>C=C(C)C(O)CCC(C)(OC1OC(COC2OCC(O)C(O)C2O)C(O)C...</td>\n",
       "      <td>1</td>\n",
       "    </tr>\n",
       "    <tr>\n",
       "      <th>4</th>\n",
       "      <td>&gt;Positive_141</td>\n",
       "      <td>CCCCOC(=O)C1OC(OC2CCC3(C)C(CCC4(C)C3CC=C3C5CC(...</td>\n",
       "      <td>1</td>\n",
       "    </tr>\n",
       "    <tr>\n",
       "      <th>...</th>\n",
       "      <td>...</td>\n",
       "      <td>...</td>\n",
       "      <td>...</td>\n",
       "    </tr>\n",
       "    <tr>\n",
       "      <th>68</th>\n",
       "      <td>&gt;Negative_188</td>\n",
       "      <td>CC1(C)CCC2(C(=O)OC3OC(CO)C(O)C(O)C3O)CCC3(C)C(...</td>\n",
       "      <td>0</td>\n",
       "    </tr>\n",
       "    <tr>\n",
       "      <th>69</th>\n",
       "      <td>&gt;Negative_189</td>\n",
       "      <td>CC(C)=CCCC(C)(O)C1CCC2(C)C1C(O)CC1C3(C)CCC(O)C...</td>\n",
       "      <td>0</td>\n",
       "    </tr>\n",
       "    <tr>\n",
       "      <th>70</th>\n",
       "      <td>&gt;Negative_190</td>\n",
       "      <td>CC(C)=CCCC(C)(OC1OC(COC2OCC(O)C(O)C2O)C(O)C(O)...</td>\n",
       "      <td>0</td>\n",
       "    </tr>\n",
       "    <tr>\n",
       "      <th>71</th>\n",
       "      <td>&gt;Negative_191</td>\n",
       "      <td>CC(=O)OC1CCC2(C)C(C(O)CC3(C)C2CC(O)C2C(C(C)=CC...</td>\n",
       "      <td>0</td>\n",
       "    </tr>\n",
       "    <tr>\n",
       "      <th>72</th>\n",
       "      <td>&gt;Negative_192</td>\n",
       "      <td>CC(C)=CCCC(C)(O)C1CCC2(C)C1C(O)CC1C3(C)CCC(O)C...</td>\n",
       "      <td>0</td>\n",
       "    </tr>\n",
       "  </tbody>\n",
       "</table>\n",
       "<p>73 rows × 3 columns</p>\n",
       "</div>"
      ],
      "text/plain": [
       "        Sample ID                                             SMILES  Label\n",
       "0   >Positive_137  CC(C)=CCCC(C)(OC1OC(COC2OC(CO)C(O)C(OC3OCC(O)C...      1\n",
       "1   >Positive_138  CC(=CC(O)C(O)C(C)(C)O)C1CCC2(C)C1C(O)CC1C3(C)C...      1\n",
       "2   >Positive_139  C=C(C)C(O)CCC(C)(OC1OC(COC2OC(CO)C(O)C2O)C(O)C...      1\n",
       "3   >Positive_140  C=C(C)C(O)CCC(C)(OC1OC(COC2OCC(O)C(O)C2O)C(O)C...      1\n",
       "4   >Positive_141  CCCCOC(=O)C1OC(OC2CCC3(C)C(CCC4(C)C3CC=C3C5CC(...      1\n",
       "..            ...                                                ...    ...\n",
       "68  >Negative_188  CC1(C)CCC2(C(=O)OC3OC(CO)C(O)C(O)C3O)CCC3(C)C(...      0\n",
       "69  >Negative_189  CC(C)=CCCC(C)(O)C1CCC2(C)C1C(O)CC1C3(C)CCC(O)C...      0\n",
       "70  >Negative_190  CC(C)=CCCC(C)(OC1OC(COC2OCC(O)C(O)C2O)C(O)C(O)...      0\n",
       "71  >Negative_191  CC(=O)OC1CCC2(C)C(C(O)CC3(C)C2CC(O)C2C(C(C)=CC...      0\n",
       "72  >Negative_192  CC(C)=CCCC(C)(O)C1CCC2(C)C1C(O)CC1C3(C)CCC(O)C...      0\n",
       "\n",
       "[73 rows x 3 columns]"
      ]
     },
     "execution_count": 51,
     "metadata": {},
     "output_type": "execute_result"
    }
   ],
   "source": [
    "df = pd.read_csv(\"04_single_vs_multi_function_test_73.csv\")\n",
    "df"
   ]
  },
  {
   "cell_type": "code",
   "execution_count": 52,
   "id": "9c05fb44",
   "metadata": {},
   "outputs": [],
   "source": [
    "cdktypes = ['extended', 'hybridization', 'klekota-roth', 'pubchem', 'standard']\n",
    "rdktypes = ['avalon', 'rdkit']   \n",
    "babeltypes = ['fp2']\n",
    "vectypes = ['mol2vec']"
   ]
  },
  {
   "cell_type": "code",
   "execution_count": 53,
   "id": "134ff5dd",
   "metadata": {},
   "outputs": [],
   "source": [
    "smlist = df[\"SMILES\"]"
   ]
  },
  {
   "cell_type": "code",
   "execution_count": 63,
   "id": "6b8e1a21",
   "metadata": {},
   "outputs": [],
   "source": [
    "output = {}\n",
    "for f in vectypes:\n",
    "    output[f] = get_fingerprints(smlist, f)\n",
    "\n",
    "output_np = output.copy()\n",
    "for k, fps in output.items():\n",
    "    output_np[k] = np.array([fp.to_numpy() for fp in fps])"
   ]
  },
  {
   "cell_type": "code",
   "execution_count": 64,
   "id": "34e1241b",
   "metadata": {},
   "outputs": [
    {
     "data": {
      "text/plain": [
       "{'mol2vec': array([[ -2.40056086, -34.21325684, -30.27823067, ..., -24.98287392,\n",
       "         -61.48462677,   9.76802063],\n",
       "        [ -4.91415358,  -8.89232635, -11.73330307, ..., -10.01341724,\n",
       "         -26.78360367,   6.09466028],\n",
       "        [ -3.34122133, -18.73465157, -18.19888306, ..., -18.04858589,\n",
       "         -41.04055786,   7.53237152],\n",
       "        ...,\n",
       "        [ -7.03742981, -13.25028992, -13.8973074 , ..., -10.45282936,\n",
       "         -32.28516388,   4.90821981],\n",
       "        [ -6.017241  ,  -4.07771635,  -5.85309792, ...,  -7.62451124,\n",
       "         -19.83620644,   1.48615491],\n",
       "        [ -5.26640558,  -9.58029366, -10.06628704, ...,  -9.61931324,\n",
       "         -26.49572182,   5.31089926]])}"
      ]
     },
     "execution_count": 64,
     "metadata": {},
     "output_type": "execute_result"
    }
   ],
   "source": [
    "output_np"
   ]
  },
  {
   "cell_type": "code",
   "execution_count": 65,
   "id": "f6b5e29d",
   "metadata": {
    "scrolled": true
   },
   "outputs": [
    {
     "name": "stdout",
     "output_type": "stream",
     "text": [
      "CSV file saved: 04_single_vs_multi_function_test_73_pyfingerprint_mol2vec.csv\n"
     ]
    }
   ],
   "source": [
    "for f in vectypes:\n",
    "    fingerprint_array = output_np[f]\n",
    "    df_fingerprint = pd.DataFrame(fingerprint_array)\n",
    "    \n",
    "    # Concatenate DataFrame with 'Sample ID' and 'Label' from original DataFrame\n",
    "    merged_df = pd.concat([df['Sample ID'], df_fingerprint, df['Label']], axis=1)\n",
    "    \n",
    "    # Save DataFrame to CSV file\n",
    "    csv_filename = f\"04_single_vs_multi_function_test_73_pyfingerprint_{f}.csv\"\n",
    "    merged_df.to_csv(csv_filename, index=False)\n",
    "    print(f\"CSV file saved: {csv_filename}\")    "
   ]
  },
  {
   "cell_type": "code",
   "execution_count": null,
   "id": "c2086899",
   "metadata": {},
   "outputs": [],
   "source": []
  },
  {
   "cell_type": "code",
   "execution_count": null,
   "id": "417cb0df",
   "metadata": {},
   "outputs": [],
   "source": []
  },
  {
   "cell_type": "code",
   "execution_count": null,
   "id": "4e9dcea8",
   "metadata": {},
   "outputs": [],
   "source": []
  }
 ],
 "metadata": {
  "kernelspec": {
   "display_name": "Python 3 (ipykernel)",
   "language": "python",
   "name": "python3"
  },
  "language_info": {
   "codemirror_mode": {
    "name": "ipython",
    "version": 3
   },
   "file_extension": ".py",
   "mimetype": "text/x-python",
   "name": "python",
   "nbconvert_exporter": "python",
   "pygments_lexer": "ipython3",
   "version": "3.7.16"
  }
 },
 "nbformat": 4,
 "nbformat_minor": 5
}
